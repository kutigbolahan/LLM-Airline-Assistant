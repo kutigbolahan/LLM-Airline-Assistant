{
 "cells": [
  {
   "metadata": {
    "ExecuteTime": {
     "end_time": "2025-09-30T12:16:31.531522Z",
     "start_time": "2025-09-30T12:16:31.519590Z"
    }
   },
   "cell_type": "code",
   "source": [
    "\n",
    "\n",
    "import json\n",
    "from openai import OpenAI\n",
    "import os\n",
    "import gradio as gr\n",
    "import ollama\n",
    "from dotenv import load_dotenv\n",
    "#Model = \"llama3.2\"\n",
    "#openai = OpenAI(base_url=\"http://localhost:11434/v1\", api_key=\"ollama\")\n",
    "load_dotenv(override=True)\n",
    "openai_api_key = os.getenv(\"OPENAI_API_KEY\")\n",
    "if openai_api_key:\n",
    "  print(f\"OpenAI API Key exists and begins {openai_api_key[:15]}\")\n",
    "else:\n",
    "    print(\"OpenAI API Key not found\")\n",
    "MODEL = \"gpt-4o-mini\"\n",
    "openai = OpenAI()\n"
   ],
   "id": "fbc121e30a2defb3",
   "outputs": [
    {
     "name": "stdout",
     "output_type": "stream",
     "text": [
      "OpenAI API Key exists and begins sk-proj-JOqwkie\n"
     ]
    }
   ],
   "execution_count": 184
  },
  {
   "metadata": {
    "ExecuteTime": {
     "end_time": "2025-09-30T12:16:31.539838Z",
     "start_time": "2025-09-30T12:16:31.538052Z"
    }
   },
   "cell_type": "code",
   "source": [
    "system_message = \"You are a helpful assistant for an Airline called FlightAI.\"\n",
    "system_message += \"Give short, courteous answers, no more than 1 sentence.\"\n",
    "system_message += \"Always be accurate. if you don't know the answer, say so\""
   ],
   "id": "36fe5c95b38df27e",
   "outputs": [],
   "execution_count": 185
  },
  {
   "metadata": {
    "ExecuteTime": {
     "end_time": "2025-09-30T12:16:31.603158Z",
     "start_time": "2025-09-30T12:16:31.543346Z"
    }
   },
   "cell_type": "code",
   "source": [
    "#The chat function\n",
    "def chat(message, history):\n",
    "    messages = [{\"role\": \"system\", \"content\": system_message}] + history + [{\"role\": \"user\", \"content\": message}]\n",
    "    response = openai.chat.completions.create(model=MODEL, messages=messages)\n",
    "    return response.choices[0].message.content\n",
    "\n",
    "gr.ChatInterface(fn=chat, type=\"messages\").launch()"
   ],
   "id": "fad5f003dbcba1d",
   "outputs": [
    {
     "name": "stdout",
     "output_type": "stream",
     "text": [
      "Running on local URL:  http://127.0.0.1:7904\n",
      "\n",
      "To create a public link, set `share=True` in `launch()`.\n"
     ]
    },
    {
     "data": {
      "text/plain": [
       "<IPython.core.display.HTML object>"
      ],
      "text/html": [
       "<div><iframe src=\"http://127.0.0.1:7904/\" width=\"100%\" height=\"500\" allow=\"autoplay; camera; microphone; clipboard-read; clipboard-write;\" frameborder=\"0\" allowfullscreen></iframe></div>"
      ]
     },
     "metadata": {},
     "output_type": "display_data"
    },
    {
     "data": {
      "text/plain": []
     },
     "execution_count": 186,
     "metadata": {},
     "output_type": "execute_result"
    }
   ],
   "execution_count": 186
  },
  {
   "metadata": {
    "ExecuteTime": {
     "end_time": "2025-09-30T12:16:31.672505Z",
     "start_time": "2025-09-30T12:16:31.606531Z"
    }
   },
   "cell_type": "code",
   "source": "gr.ChatInterface(fn=chat, type='messages').launch()",
   "id": "a86753702968c4b",
   "outputs": [
    {
     "name": "stdout",
     "output_type": "stream",
     "text": [
      "Running on local URL:  http://127.0.0.1:7905\n",
      "\n",
      "To create a public link, set `share=True` in `launch()`.\n"
     ]
    },
    {
     "data": {
      "text/plain": [
       "<IPython.core.display.HTML object>"
      ],
      "text/html": [
       "<div><iframe src=\"http://127.0.0.1:7905/\" width=\"100%\" height=\"500\" allow=\"autoplay; camera; microphone; clipboard-read; clipboard-write;\" frameborder=\"0\" allowfullscreen></iframe></div>"
      ]
     },
     "metadata": {},
     "output_type": "display_data"
    },
    {
     "data": {
      "text/plain": []
     },
     "execution_count": 187,
     "metadata": {},
     "output_type": "execute_result"
    }
   ],
   "execution_count": 187
  },
  {
   "metadata": {
    "ExecuteTime": {
     "end_time": "2025-09-30T12:16:31.684353Z",
     "start_time": "2025-09-30T12:16:31.679268Z"
    }
   },
   "cell_type": "code",
   "source": [
    "#Tools: we write a function and have the LLM call that function as part of its response\n",
    "#ticket_prices = {\"lagos\":\"40k\", \"abuja\":\"150k\", \"benin\": \"70k\", \"uyo\":\"50k\", \"abeokuta\":\"25k\"}\n",
    "ticket_prices = {\"london\": \"$799\", \"paris\": \"$899\", \"tokyo\": \"$1400\", \"berlin\": \"$499\"}\n",
    "\n",
    "def get_ticket_price(destination_city):\n",
    "    print(f\"Tool get_ticket_price called for {destination_city}\")\n",
    "    city = destination_city.lower()\n",
    "    return ticket_prices.get(city,\"Unknown\")\n"
   ],
   "id": "90ebe447be22a717",
   "outputs": [],
   "execution_count": 188
  },
  {
   "metadata": {
    "ExecuteTime": {
     "end_time": "2025-09-30T12:16:31.693524Z",
     "start_time": "2025-09-30T12:16:31.689204Z"
    }
   },
   "cell_type": "code",
   "source": "get_ticket_price(\"paris\")",
   "id": "a5212b7716c0c16",
   "outputs": [
    {
     "name": "stdout",
     "output_type": "stream",
     "text": [
      "Tool get_ticket_price called for paris\n"
     ]
    },
    {
     "data": {
      "text/plain": [
       "'$899'"
      ]
     },
     "execution_count": 189,
     "metadata": {},
     "output_type": "execute_result"
    }
   ],
   "execution_count": 189
  },
  {
   "metadata": {
    "ExecuteTime": {
     "end_time": "2025-09-30T12:16:31.702073Z",
     "start_time": "2025-09-30T12:16:31.699751Z"
    }
   },
   "cell_type": "code",
   "source": [
    "#The particular dictionary structure that's required to describe our function:\n",
    "price_function = {\n",
    "    \"name\":\"get_ticket_price\",\n",
    "    \"description\": \"Get the price of a return ticket to the destination city. Call this whenever you need to know the ticket price, for example when a customer asks 'How much is a ticket to this city'\",\n",
    "    \"parameters\":{\n",
    "        \"type\": \"object\",\n",
    "        \"properties\":{\n",
    "         \"destination_city\":{\n",
    "            \"type\":\"string\",\n",
    "            \"description\": \"The city that the customer wants to travel to\",\n",
    "        },\n",
    "    },\n",
    "     \"required\":[\"destination_city\"],\n",
    "     \"additionalProperties\": False,\n",
    "  }\n",
    "}"
   ],
   "id": "22c789737f6c083b",
   "outputs": [],
   "execution_count": 190
  },
  {
   "metadata": {
    "ExecuteTime": {
     "end_time": "2025-09-30T12:16:31.707282Z",
     "start_time": "2025-09-30T12:16:31.704784Z"
    }
   },
   "cell_type": "code",
   "source": "tools = [{\"type\": \"function\", \"function\":price_function}]",
   "id": "fa1c527d0b028526",
   "outputs": [],
   "execution_count": 191
  },
  {
   "metadata": {
    "ExecuteTime": {
     "end_time": "2025-09-30T12:16:31.715442Z",
     "start_time": "2025-09-30T12:16:31.711343Z"
    }
   },
   "cell_type": "code",
   "source": [
    "\n",
    "#get the llm to call our function\n",
    "def chat(message, history):\n",
    "    messages =[{\"role\":\"system\", \"content\": system_message}]\n",
    "    for human, assistant in history:\n",
    "        messages.append({\"role\": \"user\", \"content\": human})\n",
    "        messages.append({\"role\":\"assistant\",\"content\":assistant})\n",
    "    messages.append({\"role\":\"user\", \"content\":message})\n",
    "    #messages= [{\"role\":\"system\", \"content\":system_message}] + history + [{\"role\":\"user\", \"content\":message}]\n",
    "    response = openai.chat.completions.create(model=MODEL, messages=messages, tools=tools)\n",
    "\n",
    "    if response.choices[0].finish_reason== 'tool_calls':\n",
    "        message = response.choices[0].message\n",
    "        response , city = handle_tool_call(message)\n",
    "        messages.append(message)\n",
    "        messages.append(response)\n",
    "        response = openai.chat.completions.create(model=MODEL, messages=messages)\n",
    "    return response.choices[0].message.content\n",
    "\n"
   ],
   "id": "ed3b86509e258d2c",
   "outputs": [],
   "execution_count": 192
  },
  {
   "metadata": {
    "ExecuteTime": {
     "end_time": "2025-09-30T12:16:31.722710Z",
     "start_time": "2025-09-30T12:16:31.718999Z"
    }
   },
   "cell_type": "code",
   "source": [
    "def handle_tool_call(message):\n",
    "    tool_call = message.tool_calls[0]\n",
    "    arguments =json.loads( tool_call.function.arguments)\n",
    "    city = arguments.get(\"destination_city\")\n",
    "    price = get_ticket_price(city)\n",
    "    response = {\n",
    "        \"role\":\"tool\",\n",
    "        \"content\": json.dumps({\"destination_city\": city, \"price\": price}),\n",
    "        \"tool_call_id\":message.tool_calls[0].id\n",
    "\n",
    "    }\n",
    "    return response, city"
   ],
   "id": "bfcac1a36874212",
   "outputs": [],
   "execution_count": 193
  },
  {
   "metadata": {
    "ExecuteTime": {
     "end_time": "2025-09-30T12:16:31.961196Z",
     "start_time": "2025-09-30T12:16:31.726893Z"
    }
   },
   "cell_type": "code",
   "source": [
    "gr.ChatInterface(\n",
    "    fn=chat,\n",
    "    title=\"Full Screen Chat\",\n",
    "    fill_height=True,\n",
    "    css=\"\"\"\n",
    "        .gradio-container {max-width: 100% !important; height: 100vh !important; padding: 0 !important;}\n",
    "        #component-0 {width: 100% !important; height: 100% !important; margin: 0 auto !important;}\n",
    "        .wrap {height: 100% !important;}\n",
    "    \"\"\"\n",
    ").launch()\n"
   ],
   "id": "1ab93cb4ff2d188",
   "outputs": [
    {
     "name": "stdout",
     "output_type": "stream",
     "text": [
      "Running on local URL:  http://127.0.0.1:7906\n",
      "\n",
      "To create a public link, set `share=True` in `launch()`.\n"
     ]
    },
    {
     "data": {
      "text/plain": [
       "<IPython.core.display.HTML object>"
      ],
      "text/html": [
       "<div><iframe src=\"http://127.0.0.1:7906/\" width=\"100%\" height=\"500\" allow=\"autoplay; camera; microphone; clipboard-read; clipboard-write;\" frameborder=\"0\" allowfullscreen></iframe></div>"
      ]
     },
     "metadata": {},
     "output_type": "display_data"
    },
    {
     "data": {
      "text/plain": []
     },
     "execution_count": 194,
     "metadata": {},
     "output_type": "execute_result"
    }
   ],
   "execution_count": 194
  }
 ],
 "metadata": {
  "kernelspec": {
   "display_name": "Python 3",
   "language": "python",
   "name": "python3"
  },
  "language_info": {
   "codemirror_mode": {
    "name": "ipython",
    "version": 2
   },
   "file_extension": ".py",
   "mimetype": "text/x-python",
   "name": "python",
   "nbconvert_exporter": "python",
   "pygments_lexer": "ipython2",
   "version": "2.7.6"
  }
 },
 "nbformat": 4,
 "nbformat_minor": 5
}
