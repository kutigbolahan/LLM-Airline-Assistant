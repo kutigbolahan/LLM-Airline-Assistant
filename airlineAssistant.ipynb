{
 "cells": [
  {
   "metadata": {
    "ExecuteTime": {
     "end_time": "2025-09-25T14:06:56.394701Z",
     "start_time": "2025-09-25T14:06:46.687356Z"
    }
   },
   "cell_type": "code",
   "source": [
    "import os\n",
    "from openai import OpenAI\n",
    "\n",
    "import gradio as gr\n",
    "import ollama\n",
    "Model = \"llama3.2\"\n",
    "openai = OpenAI(base_url=\"http://localhost:11434/v1\", api_key=\"ollama\")\n"
   ],
   "id": "fbc121e30a2defb3",
   "outputs": [
    {
     "name": "stderr",
     "output_type": "stream",
     "text": [
      "/Users/kutigbolahan/Documents/LLM/LLM-Airline-Assistant/.venv/lib/python3.9/site-packages/urllib3/__init__.py:35: NotOpenSSLWarning: urllib3 v2 only supports OpenSSL 1.1.1+, currently the 'ssl' module is compiled with 'LibreSSL 2.8.3'. See: https://github.com/urllib3/urllib3/issues/3020\n",
      "  warnings.warn(\n",
      "/Users/kutigbolahan/Documents/LLM/LLM-Airline-Assistant/.venv/lib/python3.9/site-packages/tqdm/auto.py:21: TqdmWarning: IProgress not found. Please update jupyter and ipywidgets. See https://ipywidgets.readthedocs.io/en/stable/user_install.html\n",
      "  from .autonotebook import tqdm as notebook_tqdm\n"
     ]
    }
   ],
   "execution_count": 1
  },
  {
   "metadata": {
    "ExecuteTime": {
     "end_time": "2025-09-25T14:07:52.457770Z",
     "start_time": "2025-09-25T14:07:52.455947Z"
    }
   },
   "cell_type": "code",
   "source": [
    "system_message = \"You are a helpful assistant for an Airline called FlightAI.\"\n",
    "system_message += \"Give short, courteous answers, no more than 1 sentence.\"\n",
    "system_message += \"Always be accurate. if you don't know the answer, say so\""
   ],
   "id": "36fe5c95b38df27e",
   "outputs": [],
   "execution_count": 2
  },
  {
   "metadata": {
    "ExecuteTime": {
     "end_time": "2025-09-25T14:08:01.475619Z",
     "start_time": "2025-09-25T14:08:01.473275Z"
    }
   },
   "cell_type": "code",
   "source": [
    "#The chat function\n",
    "def chat(message, history):\n",
    "    messages= [{\"role\":\"system\", \"content\":system_message}] + history + [{\"role\":\"user\", \"content\":message}]\n",
    "    response = openai.chat.completions.create(model=Model, messages=messages)\n",
    "    return response.choices[0].message.content"
   ],
   "id": "fad5f003dbcba1d",
   "outputs": [],
   "execution_count": 3
  },
  {
   "metadata": {
    "ExecuteTime": {
     "end_time": "2025-09-25T14:08:03.015394Z",
     "start_time": "2025-09-25T14:08:02.892460Z"
    }
   },
   "cell_type": "code",
   "source": "gr.ChatInterface(fn=chat, type='messages').launch()",
   "id": "a86753702968c4b",
   "outputs": [
    {
     "name": "stdout",
     "output_type": "stream",
     "text": [
      "Running on local URL:  http://127.0.0.1:7860\n",
      "\n",
      "To create a public link, set `share=True` in `launch()`.\n"
     ]
    },
    {
     "data": {
      "text/plain": [
       "<IPython.core.display.HTML object>"
      ],
      "text/html": [
       "<div><iframe src=\"http://127.0.0.1:7860/\" width=\"100%\" height=\"500\" allow=\"autoplay; camera; microphone; clipboard-read; clipboard-write;\" frameborder=\"0\" allowfullscreen></iframe></div>"
      ]
     },
     "metadata": {},
     "output_type": "display_data"
    },
    {
     "data": {
      "text/plain": []
     },
     "execution_count": 4,
     "metadata": {},
     "output_type": "execute_result"
    }
   ],
   "execution_count": 4
  },
  {
   "metadata": {
    "ExecuteTime": {
     "end_time": "2025-09-25T14:15:55.629256Z",
     "start_time": "2025-09-25T14:15:55.625679Z"
    }
   },
   "cell_type": "code",
   "source": [
    "#Tools: we write a function and have and LLM call that function as part of its response\n",
    "ticket_prices = {\"lagos\":\"40k\", \"Abuja\":\"150k\", \"Benin\": \"70k\", \"uyo\":\"50k\", \"Abeokuta\":\"25k\"}\n",
    "\n",
    "def get_ticket_price(destination_city):\n",
    "    print(f\"Tool get_ticket_price called for {destination_city}\")\n",
    "    city = destination_city.lower()\n",
    "    return ticket_prices.get(city,\"Unknown\")\n"
   ],
   "id": "90ebe447be22a717",
   "outputs": [],
   "execution_count": 5
  },
  {
   "metadata": {
    "ExecuteTime": {
     "end_time": "2025-09-25T14:16:05.547182Z",
     "start_time": "2025-09-25T14:16:05.543026Z"
    }
   },
   "cell_type": "code",
   "source": "get_ticket_price(\"lagos\")",
   "id": "a5212b7716c0c16",
   "outputs": [
    {
     "name": "stdout",
     "output_type": "stream",
     "text": [
      "Tool get_ticket_price called for lagos\n"
     ]
    },
    {
     "data": {
      "text/plain": [
       "'40k'"
      ]
     },
     "execution_count": 6,
     "metadata": {},
     "output_type": "execute_result"
    }
   ],
   "execution_count": 6
  },
  {
   "metadata": {},
   "cell_type": "code",
   "outputs": [],
   "execution_count": null,
   "source": [
    "#The particular dictionary structure that's required to describe our function:\n",
    "price_function = {\n",
    "    \"name\":\"get_ticket_price\",\n",
    "    \"description\": \"Get the price of a return ticket to the destination city. Call this whenever you need to know the ticket price, for example when a customer asks 'How much is a ticket to this city'\",\n",
    "    \"parameters\":{\"type\": \"object\",\n",
    "                  \"properties\":{\n",
    "        \"destination_city\":{\n",
    "            \"type\":\"string\",\n",
    "            \"description\": \"The city that the customer wants to travel to\",\n",
    "        },\n",
    "    },\n",
    "     \"required\":[\"destination_city\"],\n",
    "                  \"additionalProperties\":False,\n",
    "                  },\n",
    "}"
   ],
   "id": "22c789737f6c083b"
  }
 ],
 "metadata": {
  "kernelspec": {
   "display_name": "Python 3",
   "language": "python",
   "name": "python3"
  },
  "language_info": {
   "codemirror_mode": {
    "name": "ipython",
    "version": 2
   },
   "file_extension": ".py",
   "mimetype": "text/x-python",
   "name": "python",
   "nbconvert_exporter": "python",
   "pygments_lexer": "ipython2",
   "version": "2.7.6"
  }
 },
 "nbformat": 4,
 "nbformat_minor": 5
}
